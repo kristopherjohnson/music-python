{
 "cells": [
  {
   "cell_type": "markdown",
   "metadata": {},
   "source": [
    "## FretBoardGtr\n",
    "\n",
    "Based on tutorials at <https://fretboardgtr.readthedocs.io/en/latest/>"
   ]
  },
  {
   "cell_type": "code",
   "execution_count": 2,
   "metadata": {},
   "outputs": [],
   "source": [
    "from fretboardgtr.fretboard import FretBoard\n",
    "from fretboardgtr.notes_creators import ScaleFromName\n",
    "\n",
    "fretboard = FretBoard()\n",
    "c_major = ScaleFromName(root=\"C\", mode=\"Ionian\").get()\n",
    "fretboard.add_notes(scale=c_major)\n",
    "fretboard.export(\"my_fretboard.svg\", format=\"svg\")"
   ]
  },
  {
   "cell_type": "code",
   "execution_count": 3,
   "metadata": {},
   "outputs": [],
   "source": [
    "from fretboardgtr.fretboard import FretBoard, FretBoardConfig\n",
    "from fretboardgtr.notes_creators import ScaleFromName\n",
    "\n",
    "config = {\n",
    "    \"general\": {\n",
    "        \"first_fret\": 0,\n",
    "        \"last_fret\": 24,\n",
    "        \"show_tuning\": False,\n",
    "        \"show_frets\": True,\n",
    "        \"show_note_name\": False,\n",
    "        \"show_degree_name\": True,\n",
    "        \"open_color_scale\": True,\n",
    "        \"fretted_color_scale\": True,\n",
    "        \"fretted_colors\": {\n",
    "            \"root\": \"rgb(255,255,255)\",\n",
    "        },\n",
    "        \"open_colors\": {\n",
    "            \"root\": \"rgb(255,255,255)\",\n",
    "        },\n",
    "        \"enharmonic\": True,\n",
    "    },\n",
    "    \"background\": {\"color\": \"rgb(0,0,50)\", \"opacity\": 0.4},\n",
    "    \"frets\": {\"color\": \"rgb(150,150,150)\"},\n",
    "    \"fret_numbers\": {\"color\": \"rgb(150,150,150)\", \"fontsize\": 20, \"fontweight\": \"bold\"},\n",
    "    \"strings\": {\"color\": \"rgb(200,200,200)\", \"width\": 2},\n",
    "}\n",
    "\n",
    "fretboard_config = FretBoardConfig.from_dict(config)\n",
    "fretboard = FretBoard(config=fretboard_config)\n",
    "c_major = ScaleFromName(root=\"A\", mode=\"Ionian\").get()\n",
    "fretboard.add_notes(scale=c_major)\n",
    "fretboard.export(\"my_custom_fretboard.svg\", format=\"svg\")"
   ]
  },
  {
   "cell_type": "code",
   "execution_count": 12,
   "metadata": {},
   "outputs": [],
   "source": [
    "from fretboardgtr.fretboard import FretBoard, FretBoardConfig\n",
    "from fretboardgtr.notes_creators import ScaleFromName, NotesContainer\n",
    "\n",
    "config = {\n",
    "    \"general\": {\n",
    "        \"first_fret\": 0,\n",
    "        \"last_fret\": 24,\n",
    "        \"show_tuning\": False,\n",
    "        \"show_frets\": True,\n",
    "        \"show_note_name\": False,\n",
    "        \"show_degree_name\": True,\n",
    "        \"open_color_scale\": True,\n",
    "        \"fretted_color_scale\": True,\n",
    "        \"fretted_colors\": {\n",
    "            \"root\": \"rgb(255,255,255)\",\n",
    "        },\n",
    "        \"open_colors\": {\n",
    "            \"root\": \"rgb(255,255,255)\",\n",
    "        },\n",
    "        \"enharmonic\": True,\n",
    "    },\n",
    "    \"background\": {\"color\": \"rgb(255,255,200)\", \"opacity\": 1.0},\n",
    "    \"frets\": {\"color\": \"rgb(150,150,150)\"},\n",
    "    \"fret_numbers\": {\"color\": \"rgb(150,150,150)\", \"fontsize\": 20, \"fontweight\": \"bold\"},\n",
    "    \"strings\": {\"color\": \"rgb(200,200,200)\", \"width\": 2},\n",
    "    \"neck_dots\": {\"color\": \"black\"},\n",
    "}\n",
    "\n",
    "fretboard_config = FretBoardConfig.from_dict(config)\n",
    "fretboard = FretBoard(config=fretboard_config)\n",
    "\n",
    "# fretboard.add_fingering([None, 5, 5, 5, 6, None])\n",
    "#fretboard.add_note(2, \"C\")\n",
    "d = NotesContainer(root='D', notes=['D', 'G', 'C', 'F'])\n",
    "fretboard.add_notes(d)\n",
    "\n",
    "fretboard.export(\"kris_custom_fretboard.svg\", format=\"svg\")"
   ]
  },
  {
   "cell_type": "code",
   "execution_count": null,
   "metadata": {},
   "outputs": [],
   "source": []
  }
 ],
 "metadata": {
  "kernelspec": {
   "display_name": "venv",
   "language": "python",
   "name": "python3"
  },
  "language_info": {
   "codemirror_mode": {
    "name": "ipython",
    "version": 3
   },
   "file_extension": ".py",
   "mimetype": "text/x-python",
   "name": "python",
   "nbconvert_exporter": "python",
   "pygments_lexer": "ipython3",
   "version": "3.9.18"
  }
 },
 "nbformat": 4,
 "nbformat_minor": 2
}

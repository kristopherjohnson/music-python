{
 "cells": [
  {
   "cell_type": "markdown",
   "metadata": {},
   "source": [
    "## python-fretboard\n",
    "\n",
    "See <https://github.com/dmpayton/python-fretboard>"
   ]
  },
  {
   "cell_type": "code",
   "execution_count": 1,
   "metadata": {},
   "outputs": [],
   "source": [
    "import fretboard"
   ]
  },
  {
   "cell_type": "code",
   "execution_count": 37,
   "metadata": {},
   "outputs": [],
   "source": [
    "fb = fretboard.Fretboard(frets=(0, 24), style={\n",
    "    'drawing': {\n",
    "        'height': 750,\n",
    "        'width': 200,\n",
    "    },\n",
    "})\n",
    "\n",
    "chords = [\n",
    "    { 'label': 'A', 'color': 'red',    'markers': [(1,  0), (2,  0), (3,  0), (4,  1)] },\n",
    "    { 'label': 'B', 'color': 'orange', 'markers': [(1,  2), (2,  2), (3,  2), (4,  3)] },\n",
    "    { 'label': 'C', 'color': 'brown',  'markers': [(1,  3), (2,  3), (3,  4), (4,  5)] },\n",
    "    { 'label': 'D', 'color': 'green',  'markers': [(1,  5), (2,  5), (3,  5), (4,  6)] },\n",
    "    { 'label': 'E', 'color': 'blue',   'markers': [(1,  7), (2,  7), (3,  7), (4,  8)] },\n",
    "    { 'label': 'F', 'color': 'indigo', 'markers': [(1,  9), (2, 10), (3, 10), (4, 11)] },\n",
    "    { 'label': 'G', 'color': 'violet', 'markers': [(1, 11), (2, 11), (3, 11), (4, 13)] },\n",
    "]\n",
    "\n",
    "# Render in reverse order so that when chords overlap, the higher chord's color\n",
    "# is used.\n",
    "chords.reverse()\n",
    "\n",
    "for chord in chords:\n",
    "    label, color, markers = chord['label'], chord['color'], chord['markers']\n",
    "    for (string, fret) in markers:\n",
    "        note_label = label if string == 1 else None\n",
    "        fb.add_marker(label=note_label, string=string, fret=fret, color=color)\n",
    "        if fret < 12:\n",
    "            fb.add_marker(label=note_label, string=string, fret=fret+12, color=color)\n",
    "\n",
    "fb.save('quartal.svg')"
   ]
  },
  {
   "cell_type": "code",
   "execution_count": null,
   "metadata": {},
   "outputs": [],
   "source": []
  }
 ],
 "metadata": {
  "kernelspec": {
   "display_name": "venv",
   "language": "python",
   "name": "python3"
  },
  "language_info": {
   "codemirror_mode": {
    "name": "ipython",
    "version": 3
   },
   "file_extension": ".py",
   "mimetype": "text/x-python",
   "name": "python",
   "nbconvert_exporter": "python",
   "pygments_lexer": "ipython3",
   "version": "3.9.18"
  }
 },
 "nbformat": 4,
 "nbformat_minor": 2
}
